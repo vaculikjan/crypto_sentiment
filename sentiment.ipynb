{
 "cells": [
  {
   "cell_type": "code",
   "execution_count": 65,
   "metadata": {},
   "outputs": [],
   "source": [
    "import datetime as dt\n",
    "import matplotlib.pyplot as plt\n",
    "import numpy as np\n",
    "import pandas as pd\n",
    "import pandas_datareader as web\n",
    "import re\n",
    "import requests \n",
    "import tensorflow as tf\n",
    "\n",
    "from bs4 import BeautifulSoup\n",
    "from sklearn.preprocessing import MinMaxScaler\n",
    "from tensorflow.python.keras.layers import Dense, Dropout, LSTM\n",
    "from tensorflow.python.keras.models import Sequential\n",
    "from tensorflow.python.keras.callbacks import EarlyStopping\n"
   ]
  },
  {
   "cell_type": "code",
   "execution_count": 66,
   "metadata": {},
   "outputs": [],
   "source": [
    "crypto_currency = \"BTC\"\n",
    "against_currency = \"USD\"\n",
    "\n",
    "sentiment_df = pd.read_csv(\"sentiment_data_consolidated.csv\")\n",
    "sentiment = sentiment_df[\"sentiment\"]\n",
    "\n",
    "start = dt.datetime.strptime(sentiment_df[\"time\"].iloc[0], \"%Y-%m-%d\")\n",
    "end = dt.datetime.strptime(sentiment_df[\"time\"].iloc[-2], \"%Y-%m-%d\")\n",
    "\n",
    "raw_data = web.DataReader(f\"{crypto_currency}-{against_currency}\", \"yahoo\", start, end)"
   ]
  },
  {
   "cell_type": "code",
   "execution_count": 67,
   "metadata": {},
   "outputs": [],
   "source": [
    "scaler = MinMaxScaler(feature_range=(0,1))\n",
    "scaled_data = scaler.fit_transform(raw_data[\"Close\"].values.reshape(-1,1))"
   ]
  },
  {
   "cell_type": "code",
   "execution_count": 68,
   "metadata": {},
   "outputs": [],
   "source": [
    "training_days = 60\n",
    "predict_days = 7\n",
    "\n",
    "X_train, y_train = [], []\n",
    "\n",
    "for x in range(training_days, len(scaled_data) - predict_days - 140):\n",
    "    X_train.append(scaled_data[x - training_days:x, 0])\n",
    "    y_train.append(scaled_data[x:x+predict_days, 0])\n",
    "\n",
    "\n",
    "X_train, y_train = np.array(X_train), np.array(y_train)\n",
    "X_buff = np.reshape(X_train, (X_train.shape[0], X_train.shape[1], 1))\n",
    "X_train = []\n",
    "\n",
    "for i, x in enumerate(range(training_days, len(scaled_data) - predict_days - 140)):\n",
    "    X_train.append(np.insert(X_buff[i],1, sentiment[x - training_days:x], 1))\n",
    "\n",
    "X_train = np.array(X_train)"
   ]
  },
  {
   "cell_type": "code",
   "execution_count": 82,
   "metadata": {},
   "outputs": [
    {
     "name": "stdout",
     "output_type": "stream",
     "text": [
      "Epoch 1/100\n",
      "27/27 [==============================] - 7s 115ms/step - loss: 0.0027\n",
      "Epoch 2/100\n",
      "27/27 [==============================] - 3s 111ms/step - loss: 6.5646e-04\n",
      "Epoch 3/100\n",
      "27/27 [==============================] - 3s 112ms/step - loss: 5.3514e-04\n",
      "Epoch 4/100\n",
      "27/27 [==============================] - 3s 111ms/step - loss: 5.1078e-04\n",
      "Epoch 5/100\n",
      "27/27 [==============================] - 3s 112ms/step - loss: 4.5337e-04\n",
      "Epoch 6/100\n",
      "27/27 [==============================] - 3s 114ms/step - loss: 5.1829e-04\n",
      "Epoch 7/100\n",
      "27/27 [==============================] - 3s 115ms/step - loss: 5.0829e-04\n",
      "Epoch 8/100\n",
      "27/27 [==============================] - 3s 119ms/step - loss: 4.4759e-04\n",
      "Epoch 9/100\n",
      "27/27 [==============================] - 3s 112ms/step - loss: 4.6031e-04\n",
      "Epoch 10/100\n",
      "27/27 [==============================] - 3s 111ms/step - loss: 4.9603e-04\n",
      "Epoch 11/100\n",
      "27/27 [==============================] - 3s 111ms/step - loss: 4.2643e-04\n",
      "Epoch 12/100\n",
      "27/27 [==============================] - 3s 111ms/step - loss: 4.5299e-04\n",
      "Epoch 13/100\n",
      "27/27 [==============================] - 3s 114ms/step - loss: 4.2070e-04\n",
      "Epoch 14/100\n",
      "27/27 [==============================] - 3s 113ms/step - loss: 3.8269e-04\n",
      "Epoch 15/100\n",
      "27/27 [==============================] - 3s 111ms/step - loss: 3.9895e-04\n",
      "Epoch 16/100\n",
      "27/27 [==============================] - 3s 111ms/step - loss: 4.4320e-04\n",
      "Epoch 17/100\n",
      "27/27 [==============================] - 3s 114ms/step - loss: 4.2953e-04\n",
      "Epoch 18/100\n",
      "27/27 [==============================] - 3s 115ms/step - loss: 4.2605e-04\n",
      "Epoch 19/100\n",
      "27/27 [==============================] - 3s 113ms/step - loss: 4.1767e-04\n",
      "Epoch 20/100\n",
      "27/27 [==============================] - 3s 112ms/step - loss: 4.4780e-04\n",
      "Epoch 21/100\n",
      "27/27 [==============================] - 3s 113ms/step - loss: 4.0961e-04\n",
      "Epoch 22/100\n",
      "27/27 [==============================] - 3s 120ms/step - loss: 4.3911e-04\n",
      "Epoch 23/100\n",
      "27/27 [==============================] - 3s 113ms/step - loss: 3.9686e-04\n",
      "Epoch 24/100\n",
      "27/27 [==============================] - 3s 111ms/step - loss: 4.0909e-04\n"
     ]
    }
   ],
   "source": [
    "model = Sequential()\n",
    "\n",
    "model.add(LSTM(units=128, return_sequences=True, input_shape=(X_train.shape[1], X_train.shape[2])))\n",
    "model.add(Dropout(0.2))\n",
    "model.add(LSTM(units=128, return_sequences=True))\n",
    "model.add(Dropout(0.2))\n",
    "model.add(LSTM(units=128))\n",
    "model.add(Dropout(0.2))\n",
    "model.add(Dense(units=7))\n",
    "\n",
    "model.compile(optimizer=\"adam\", loss=\"mean_squared_error\")\n",
    "\n",
    "with tf.device('/cpu:0'):\n",
    "    model.fit(X_train, y_train, epochs=100, batch_size=64, callbacks=[EarlyStopping(monitor='loss',patience=10)])"
   ]
  },
  {
   "cell_type": "code",
   "execution_count": 84,
   "metadata": {},
   "outputs": [
    {
     "name": "stderr",
     "output_type": "stream",
     "text": [
      "/tmp/ipykernel_5732/4242412002.py:14: VisibleDeprecationWarning: Creating an ndarray from ragged nested sequences (which is a list-or-tuple of lists-or-tuples-or ndarrays with different lengths or shapes) is deprecated. If you meant to do this, you must specify 'dtype=object' when creating the ndarray.\n",
      "  X_test, y_test = np.array(X_test), np.array(y_test)\n"
     ]
    }
   ],
   "source": [
    "test_start = dt.datetime(2020, 1,1)\n",
    "test_end = dt.datetime.strptime(sentiment_df[\"time\"].iloc[-2], \"%Y-%m-%d\")\n",
    "\n",
    "raw_test_data = web.DataReader(f\"{crypto_currency}-{against_currency}\", \"yahoo\", test_start, test_end)\n",
    "\n",
    "model_inputs = scaled_data[1461-training_days:]\n",
    "\n",
    "X_test, y_test = [], []\n",
    "\n",
    "for x in range(training_days, len(model_inputs)):\n",
    "    X_test.append(model_inputs[x - training_days:x, 0])\n",
    "    y_test.append(model_inputs[x:x+predict_days, 0])\n",
    "\n",
    "X_test, y_test = np.array(X_test), np.array(y_test)\n",
    "X_test = np.reshape(X_test, (X_test.shape[0], X_test.shape[1],1))\n",
    "\n",
    "X_test = np.array(X_test)\n",
    "X_buff = np.reshape(X_test, (X_test.shape[0], X_test.shape[1], 1))\n",
    "X_test = []\n",
    "\n",
    "for i, x in enumerate(range(training_days, len(model_inputs))):\n",
    "    X_test.append(np.insert(X_buff[i],1, sentiment[x - training_days:x], 1))\n",
    "    \n",
    "X_test = np.array(X_test)"
   ]
  },
  {
   "cell_type": "code",
   "execution_count": null,
   "metadata": {},
   "outputs": [],
   "source": []
  },
  {
   "cell_type": "code",
   "execution_count": 86,
   "metadata": {},
   "outputs": [
    {
     "data": {
      "image/png": "[encoded data removed]",
      "text/plain": [
       "<Figure size 432x288 with 1 Axes>"
      ]
     },
     "metadata": {
      "needs_background": "light"
     },
     "output_type": "display_data"
    }
   ],
   "source": [
    "y_pred = []\n",
    "for week in range(0, X_test.shape[0], 7):\n",
    "    y_pred.append(model.predict(np.expand_dims(X_test[week], 0)))\n",
    "\n",
    "y_pred = np.array(y_pred)\n",
    "y_pred = np.expand_dims(y_pred.flatten(), 0)\n",
    "actual_prices = raw_test_data[\"Close\"].values\n",
    "prediction_prices = scaler.inverse_transform(y_pred)[0]\n",
    "\n",
    "plt.plot(actual_prices, color=\"black\", label=\"Actual\")\n",
    "plt.plot(prediction_prices, color=\"green\", label=\"Prediction\")\n",
    "\n",
    "plt.title(f\"{crypto_currency} price prediction\")\n",
    "plt.xlabel(\"Days\")\n",
    "plt.ylabel(\"Price\")\n",
    "plt.legend(loc=\"upper left\")\n",
    "plt.show()"
   ]
  },
  {
   "cell_type": "code",
   "execution_count": 75,
   "metadata": {},
   "outputs": [
    {
     "name": "stdout",
     "output_type": "stream",
     "text": [
      "14/14 [==============================] - 1s 41ms/step - loss: 2.9447e-04\n",
      "test loss, test acc: 0.00029447348788380623\n"
     ]
    },
    {
     "ename": "InvalidArgumentError",
     "evalue": "Graph execution error:\n\nDetected at node 'sequential_9/lstm_27/TensorArrayUnstack/TensorListFromTensor' defined at (most recent call last):\n    File \"/usr/lib/python3.8/runpy.py\", line 194, in _run_module_as_main\n      return _run_code(code, main_globals, None,\n    File \"/usr/lib/python3.8/runpy.py\", line 87, in _run_code\n      exec(code, run_globals)\n    File \"/home/jan/.local/lib/python3.8/site-packages/ipykernel_launcher.py\", line 17, in <module>\n      app.launch_new_instance()\n    File \"/home/jan/.local/lib/python3.8/site-packages/traitlets/config/application.py\", line 846, in launch_instance\n      app.start()\n    File \"/home/jan/.local/lib/python3.8/site-packages/ipykernel/kernelapp.py\", line 707, in start\n      self.io_loop.start()\n    File \"/home/jan/.local/lib/python3.8/site-packages/tornado/platform/asyncio.py\", line 199, in start\n      self.asyncio_loop.run_forever()\n    File \"/usr/lib/python3.8/asyncio/base_events.py\", line 570, in run_forever\n      self._run_once()\n    File \"/usr/lib/python3.8/asyncio/base_events.py\", line 1859, in _run_once\n      handle._run()\n    File \"/usr/lib/python3.8/asyncio/events.py\", line 81, in _run\n      self._context.run(self._callback, *self._args)\n    File \"/home/jan/.local/lib/python3.8/site-packages/ipykernel/kernelbase.py\", line 502, in dispatch_queue\n      await self.process_one()\n    File \"/home/jan/.local/lib/python3.8/site-packages/ipykernel/kernelbase.py\", line 491, in process_one\n      await dispatch(*args)\n    File \"/home/jan/.local/lib/python3.8/site-packages/ipykernel/kernelbase.py\", line 398, in dispatch_shell\n      await result\n    File \"/home/jan/.local/lib/python3.8/site-packages/ipykernel/kernelbase.py\", line 722, in execute_request\n      reply_content = await reply_content\n    File \"/home/jan/.local/lib/python3.8/site-packages/ipykernel/ipkernel.py\", line 389, in do_execute\n      res = shell.run_cell(code, store_history=store_history, silent=silent)\n    File \"/home/jan/.local/lib/python3.8/site-packages/ipykernel/zmqshell.py\", line 528, in run_cell\n      return super().run_cell(*args, **kwargs)\n    File \"/home/jan/.local/lib/python3.8/site-packages/IPython/core/interactiveshell.py\", line 2863, in run_cell\n      result = self._run_cell(\n    File \"/home/jan/.local/lib/python3.8/site-packages/IPython/core/interactiveshell.py\", line 2909, in _run_cell\n      return runner(coro)\n    File \"/home/jan/.local/lib/python3.8/site-packages/IPython/core/async_helpers.py\", line 129, in _pseudo_sync_runner\n      coro.send(None)\n    File \"/home/jan/.local/lib/python3.8/site-packages/IPython/core/interactiveshell.py\", line 3106, in run_cell_async\n      has_raised = await self.run_ast_nodes(code_ast.body, cell_name,\n    File \"/home/jan/.local/lib/python3.8/site-packages/IPython/core/interactiveshell.py\", line 3309, in run_ast_nodes\n      if await self.run_code(code, result, async_=asy):\n    File \"/home/jan/.local/lib/python3.8/site-packages/IPython/core/interactiveshell.py\", line 3369, in run_code\n      exec(code_obj, self.user_global_ns, self.user_ns)\n    File \"/tmp/ipykernel_5732/2347098761.py\", line 4, in <cell line: 4>\n      results = model.evaluate(X_test, y_test, batch_size=128)\n    File \"/home/jan/.local/lib/python3.8/site-packages/tensorflow/python/keras/engine/training.py\", line 1497, in evaluate\n      tmp_logs = self.test_function(iterator)\n    File \"/home/jan/.local/lib/python3.8/site-packages/tensorflow/python/keras/engine/training.py\", line 1327, in test_function\n      return step_function(self, iterator)\n    File \"/home/jan/.local/lib/python3.8/site-packages/tensorflow/python/keras/engine/training.py\", line 1318, in step_function\n      outputs = model.distribute_strategy.run(run_step, args=(data,))\n    File \"/home/jan/.local/lib/python3.8/site-packages/tensorflow/python/keras/engine/training.py\", line 1311, in run_step\n      outputs = model.test_step(data)\n    File \"/home/jan/.local/lib/python3.8/site-packages/tensorflow/python/keras/engine/training.py\", line 1270, in test_step\n      y_pred = self(x, training=False)\n    File \"/home/jan/.local/lib/python3.8/site-packages/tensorflow/python/keras/engine/base_layer.py\", line 1044, in __call__\n      outputs = call_fn(inputs, *args, **kwargs)\n    File \"/home/jan/.local/lib/python3.8/site-packages/tensorflow/python/keras/engine/sequential.py\", line 379, in call\n      return super(Sequential, self).call(inputs, training=training, mask=mask)\n    File \"/home/jan/.local/lib/python3.8/site-packages/tensorflow/python/keras/engine/functional.py\", line 419, in call\n      return self._run_internal_graph(\n    File \"/home/jan/.local/lib/python3.8/site-packages/tensorflow/python/keras/engine/functional.py\", line 555, in _run_internal_graph\n      outputs = node.layer(*args, **kwargs)\n    File \"/home/jan/.local/lib/python3.8/site-packages/tensorflow/python/keras/layers/recurrent.py\", line 668, in __call__\n      return super(RNN, self).__call__(inputs, **kwargs)\n    File \"/home/jan/.local/lib/python3.8/site-packages/tensorflow/python/keras/engine/base_layer.py\", line 1044, in __call__\n      outputs = call_fn(inputs, *args, **kwargs)\n    File \"/home/jan/.local/lib/python3.8/site-packages/tensorflow/python/keras/layers/recurrent.py\", line 2802, in call\n      return super(LSTM, self).call(\n    File \"/home/jan/.local/lib/python3.8/site-packages/tensorflow/python/keras/layers/recurrent.py\", line 802, in call\n      last_output, outputs, states = backend.rnn(\n    File \"/home/jan/.local/lib/python3.8/site-packages/tensorflow/python/keras/backend.py\", line 4377, in rnn\n      input_ta = tuple(\n    File \"/home/jan/.local/lib/python3.8/site-packages/tensorflow/python/keras/backend.py\", line 4378, in <genexpr>\n      ta.unstack(input_) if not go_backwards else ta\nNode: 'sequential_9/lstm_27/TensorArrayUnstack/TensorListFromTensor'\nSpecified a list with shape [?,2] from a tensor with shape [128,3]\n\t [[{{node sequential_9/lstm_27/TensorArrayUnstack/TensorListFromTensor}}]] [Op:__inference_test_function_89526]",
     "output_type": "error",
     "traceback": [
      "\u001b[0;31m---------------------------------------------------------------------------\u001b[0m",
      "\u001b[0;31mInvalidArgumentError\u001b[0m                      Traceback (most recent call last)",
      "\u001b[1;32m/home/jan/Documents/crypto_sentiment/sentiment.ipynb Cell 8\u001b[0m in \u001b[0;36m<cell line: 4>\u001b[0;34m()\u001b[0m\n\u001b[1;32m      <a href='vscode-notebook-cell:/home/jan/Documents/crypto_sentiment/sentiment.ipynb#ch0000027?line=0'>1</a>\u001b[0m results \u001b[39m=\u001b[39m model\u001b[39m.\u001b[39mevaluate(X_train, y_train, batch_size\u001b[39m=\u001b[39m\u001b[39m128\u001b[39m)\n\u001b[1;32m      <a href='vscode-notebook-cell:/home/jan/Documents/crypto_sentiment/sentiment.ipynb#ch0000027?line=1'>2</a>\u001b[0m \u001b[39mprint\u001b[39m(\u001b[39m\"\u001b[39m\u001b[39mtest loss, test acc:\u001b[39m\u001b[39m\"\u001b[39m, results)\n\u001b[0;32m----> <a href='vscode-notebook-cell:/home/jan/Documents/crypto_sentiment/sentiment.ipynb#ch0000027?line=3'>4</a>\u001b[0m results \u001b[39m=\u001b[39m model\u001b[39m.\u001b[39;49mevaluate(X_test, y_test, batch_size\u001b[39m=\u001b[39;49m\u001b[39m128\u001b[39;49m)\n\u001b[1;32m      <a href='vscode-notebook-cell:/home/jan/Documents/crypto_sentiment/sentiment.ipynb#ch0000027?line=4'>5</a>\u001b[0m \u001b[39mprint\u001b[39m(\u001b[39m\"\u001b[39m\u001b[39mtest loss, test acc:\u001b[39m\u001b[39m\"\u001b[39m, results)\n",
      "File \u001b[0;32m~/.local/lib/python3.8/site-packages/tensorflow/python/keras/engine/training.py:1497\u001b[0m, in \u001b[0;36mModel.evaluate\u001b[0;34m(self, x, y, batch_size, verbose, sample_weight, steps, callbacks, max_queue_size, workers, use_multiprocessing, return_dict, **kwargs)\u001b[0m\n\u001b[1;32m   1495\u001b[0m \u001b[39mwith\u001b[39;00m trace\u001b[39m.\u001b[39mTrace(\u001b[39m'\u001b[39m\u001b[39mtest\u001b[39m\u001b[39m'\u001b[39m, step_num\u001b[39m=\u001b[39mstep, _r\u001b[39m=\u001b[39m\u001b[39m1\u001b[39m):\n\u001b[1;32m   1496\u001b[0m   callbacks\u001b[39m.\u001b[39mon_test_batch_begin(step)\n\u001b[0;32m-> 1497\u001b[0m   tmp_logs \u001b[39m=\u001b[39m \u001b[39mself\u001b[39;49m\u001b[39m.\u001b[39;49mtest_function(iterator)\n\u001b[1;32m   1498\u001b[0m   \u001b[39mif\u001b[39;00m data_handler\u001b[39m.\u001b[39mshould_sync:\n\u001b[1;32m   1499\u001b[0m     context\u001b[39m.\u001b[39masync_wait()\n",
      "File \u001b[0;32m~/.local/lib/python3.8/site-packages/tensorflow/python/util/traceback_utils.py:153\u001b[0m, in \u001b[0;36mfilter_traceback.<locals>.error_handler\u001b[0;34m(*args, **kwargs)\u001b[0m\n\u001b[1;32m    151\u001b[0m \u001b[39mexcept\u001b[39;00m \u001b[39mException\u001b[39;00m \u001b[39mas\u001b[39;00m e:\n\u001b[1;32m    152\u001b[0m   filtered_tb \u001b[39m=\u001b[39m _process_traceback_frames(e\u001b[39m.\u001b[39m__traceback__)\n\u001b[0;32m--> 153\u001b[0m   \u001b[39mraise\u001b[39;00m e\u001b[39m.\u001b[39mwith_traceback(filtered_tb) \u001b[39mfrom\u001b[39;00m \u001b[39mNone\u001b[39m\n\u001b[1;32m    154\u001b[0m \u001b[39mfinally\u001b[39;00m:\n\u001b[1;32m    155\u001b[0m   \u001b[39mdel\u001b[39;00m filtered_tb\n",
      "File \u001b[0;32m~/.local/lib/python3.8/site-packages/tensorflow/python/eager/execute.py:54\u001b[0m, in \u001b[0;36mquick_execute\u001b[0;34m(op_name, num_outputs, inputs, attrs, ctx, name)\u001b[0m\n\u001b[1;32m     52\u001b[0m \u001b[39mtry\u001b[39;00m:\n\u001b[1;32m     53\u001b[0m   ctx\u001b[39m.\u001b[39mensure_initialized()\n\u001b[0;32m---> 54\u001b[0m   tensors \u001b[39m=\u001b[39m pywrap_tfe\u001b[39m.\u001b[39mTFE_Py_Execute(ctx\u001b[39m.\u001b[39m_handle, device_name, op_name,\n\u001b[1;32m     55\u001b[0m                                       inputs, attrs, num_outputs)\n\u001b[1;32m     56\u001b[0m \u001b[39mexcept\u001b[39;00m core\u001b[39m.\u001b[39m_NotOkStatusException \u001b[39mas\u001b[39;00m e:\n\u001b[1;32m     57\u001b[0m   \u001b[39mif\u001b[39;00m name \u001b[39mis\u001b[39;00m \u001b[39mnot\u001b[39;00m \u001b[39mNone\u001b[39;00m:\n",
      "\u001b[0;31mInvalidArgumentError\u001b[0m: Graph execution error:\n\nDetected at node 'sequential_9/lstm_27/TensorArrayUnstack/TensorListFromTensor' defined at (most recent call last):\n    File \"/usr/lib/python3.8/runpy.py\", line 194, in _run_module_as_main\n      return _run_code(code, main_globals, None,\n    File \"/usr/lib/python3.8/runpy.py\", line 87, in _run_code\n      exec(code, run_globals)\n    File \"/home/jan/.local/lib/python3.8/site-packages/ipykernel_launcher.py\", line 17, in <module>\n      app.launch_new_instance()\n    File \"/home/jan/.local/lib/python3.8/site-packages/traitlets/config/application.py\", line 846, in launch_instance\n      app.start()\n    File \"/home/jan/.local/lib/python3.8/site-packages/ipykernel/kernelapp.py\", line 707, in start\n      self.io_loop.start()\n    File \"/home/jan/.local/lib/python3.8/site-packages/tornado/platform/asyncio.py\", line 199, in start\n      self.asyncio_loop.run_forever()\n    File \"/usr/lib/python3.8/asyncio/base_events.py\", line 570, in run_forever\n      self._run_once()\n    File \"/usr/lib/python3.8/asyncio/base_events.py\", line 1859, in _run_once\n      handle._run()\n    File \"/usr/lib/python3.8/asyncio/events.py\", line 81, in _run\n      self._context.run(self._callback, *self._args)\n    File \"/home/jan/.local/lib/python3.8/site-packages/ipykernel/kernelbase.py\", line 502, in dispatch_queue\n      await self.process_one()\n    File \"/home/jan/.local/lib/python3.8/site-packages/ipykernel/kernelbase.py\", line 491, in process_one\n      await dispatch(*args)\n    File \"/home/jan/.local/lib/python3.8/site-packages/ipykernel/kernelbase.py\", line 398, in dispatch_shell\n      await result\n    File \"/home/jan/.local/lib/python3.8/site-packages/ipykernel/kernelbase.py\", line 722, in execute_request\n      reply_content = await reply_content\n    File \"/home/jan/.local/lib/python3.8/site-packages/ipykernel/ipkernel.py\", line 389, in do_execute\n      res = shell.run_cell(code, store_history=store_history, silent=silent)\n    File \"/home/jan/.local/lib/python3.8/site-packages/ipykernel/zmqshell.py\", line 528, in run_cell\n      return super().run_cell(*args, **kwargs)\n    File \"/home/jan/.local/lib/python3.8/site-packages/IPython/core/interactiveshell.py\", line 2863, in run_cell\n      result = self._run_cell(\n    File \"/home/jan/.local/lib/python3.8/site-packages/IPython/core/interactiveshell.py\", line 2909, in _run_cell\n      return runner(coro)\n    File \"/home/jan/.local/lib/python3.8/site-packages/IPython/core/async_helpers.py\", line 129, in _pseudo_sync_runner\n      coro.send(None)\n    File \"/home/jan/.local/lib/python3.8/site-packages/IPython/core/interactiveshell.py\", line 3106, in run_cell_async\n      has_raised = await self.run_ast_nodes(code_ast.body, cell_name,\n    File \"/home/jan/.local/lib/python3.8/site-packages/IPython/core/interactiveshell.py\", line 3309, in run_ast_nodes\n      if await self.run_code(code, result, async_=asy):\n    File \"/home/jan/.local/lib/python3.8/site-packages/IPython/core/interactiveshell.py\", line 3369, in run_code\n      exec(code_obj, self.user_global_ns, self.user_ns)\n    File \"/tmp/ipykernel_5732/2347098761.py\", line 4, in <cell line: 4>\n      results = model.evaluate(X_test, y_test, batch_size=128)\n    File \"/home/jan/.local/lib/python3.8/site-packages/tensorflow/python/keras/engine/training.py\", line 1497, in evaluate\n      tmp_logs = self.test_function(iterator)\n    File \"/home/jan/.local/lib/python3.8/site-packages/tensorflow/python/keras/engine/training.py\", line 1327, in test_function\n      return step_function(self, iterator)\n    File \"/home/jan/.local/lib/python3.8/site-packages/tensorflow/python/keras/engine/training.py\", line 1318, in step_function\n      outputs = model.distribute_strategy.run(run_step, args=(data,))\n    File \"/home/jan/.local/lib/python3.8/site-packages/tensorflow/python/keras/engine/training.py\", line 1311, in run_step\n      outputs = model.test_step(data)\n    File \"/home/jan/.local/lib/python3.8/site-packages/tensorflow/python/keras/engine/training.py\", line 1270, in test_step\n      y_pred = self(x, training=False)\n    File \"/home/jan/.local/lib/python3.8/site-packages/tensorflow/python/keras/engine/base_layer.py\", line 1044, in __call__\n      outputs = call_fn(inputs, *args, **kwargs)\n    File \"/home/jan/.local/lib/python3.8/site-packages/tensorflow/python/keras/engine/sequential.py\", line 379, in call\n      return super(Sequential, self).call(inputs, training=training, mask=mask)\n    File \"/home/jan/.local/lib/python3.8/site-packages/tensorflow/python/keras/engine/functional.py\", line 419, in call\n      return self._run_internal_graph(\n    File \"/home/jan/.local/lib/python3.8/site-packages/tensorflow/python/keras/engine/functional.py\", line 555, in _run_internal_graph\n      outputs = node.layer(*args, **kwargs)\n    File \"/home/jan/.local/lib/python3.8/site-packages/tensorflow/python/keras/layers/recurrent.py\", line 668, in __call__\n      return super(RNN, self).__call__(inputs, **kwargs)\n    File \"/home/jan/.local/lib/python3.8/site-packages/tensorflow/python/keras/engine/base_layer.py\", line 1044, in __call__\n      outputs = call_fn(inputs, *args, **kwargs)\n    File \"/home/jan/.local/lib/python3.8/site-packages/tensorflow/python/keras/layers/recurrent.py\", line 2802, in call\n      return super(LSTM, self).call(\n    File \"/home/jan/.local/lib/python3.8/site-packages/tensorflow/python/keras/layers/recurrent.py\", line 802, in call\n      last_output, outputs, states = backend.rnn(\n    File \"/home/jan/.local/lib/python3.8/site-packages/tensorflow/python/keras/backend.py\", line 4377, in rnn\n      input_ta = tuple(\n    File \"/home/jan/.local/lib/python3.8/site-packages/tensorflow/python/keras/backend.py\", line 4378, in <genexpr>\n      ta.unstack(input_) if not go_backwards else ta\nNode: 'sequential_9/lstm_27/TensorArrayUnstack/TensorListFromTensor'\nSpecified a list with shape [?,2] from a tensor with shape [128,3]\n\t [[{{node sequential_9/lstm_27/TensorArrayUnstack/TensorListFromTensor}}]] [Op:__inference_test_function_89526]"
     ]
    }
   ],
   "source": [
    "results = model.evaluate(X_train, y_train, batch_size=128)\n",
    "print(\"test loss, test acc:\", results)\n",
    "\n",
    "results = model.evaluate(X_test, y_test, batch_size=128)\n",
    "print(\"test loss, test acc:\", results)"
   ]
  },
  {
   "cell_type": "code",
   "execution_count": 5,
   "metadata": {},
   "outputs": [],
   "source": [
    "#TODO try another method to not check price but check whether the price will go up or down\n",
    "    \n",
    "url = 'https://bitinfocharts.com/comparison/tweets-btc-dcr.html#alltime'\n",
    "response = requests.get(url)\n",
    "soup = BeautifulSoup(response.text, 'html.parser')\n",
    "\n",
    "scripts = soup.find_all('script')\n",
    "\n",
    "for script in scripts:\n",
    "    if 'd = new Dygraph(document.getElementById(\"container\")' in script.text:\n",
    "        StrList = script.text\n",
    "        StrList = '[[' + StrList.split('[[')[-1]\n",
    "        StrList = StrList.split(']]')[0] +']]'\n",
    "        StrList = StrList.replace(\"new Date(\", '').replace(')','')\n",
    "        clean = re.sub(\"[\\[\\],\\s]\",\"\",StrList)\n",
    "        splitted = re.split(\"[\\'\\\"]\",clean)\n",
    "        dataList = [s.replace(\"null\", \"000\") for s in splitted if s != '']\n",
    "\n",
    "date = []\n",
    "tweet = []\n",
    "\n",
    "for each in dataList:\n",
    "    if (dataList.index(each) % 2) == 0:\n",
    "        date.append(each)\n",
    "    else:\n",
    "        tweet.append(each)\n",
    "\n",
    "df = pd.DataFrame(list(zip(date, tweet)), columns=[\"Date\",\"Volume\"])\n",
    "volume = df[632:2550][\"Volume\"].values.astype(int)\n",
    "to_impute = np.where(volume == 0)\n",
    "\n",
    "avg_1 = (volume[539] + volume[558]) / 2\n",
    "avg_2 = (volume[791] + volume[827]) / 2\n",
    "avg_3 = (volume[1069] + volume[1071]) / 2\n",
    "avg_4 = (volume[1659] + volume[1661]) / 2\n",
    "\n",
    "for val in to_impute[0]:\n",
    "    if val < 558:\n",
    "        volume[val] = avg_1\n",
    "    elif val < 827:\n",
    "        volume[val] = avg_2\n",
    "    elif val < 1071:\n",
    "        volume[val] = avg_3\n",
    "    else:\n",
    "        volume[val] = avg_4\n",
    "        \n",
    "scaled_volume = scaler.fit_transform(volume.reshape(-1,1))"
   ]
  },
  {
   "cell_type": "code",
   "execution_count": 53,
   "metadata": {},
   "outputs": [],
   "source": [
    "weights = [0.7,0.7,0.9,0.9,1.1,1.3,1.4]\n",
    "mean, change, X_train = [], [], []\n",
    "\n",
    "for x in range(training_days, len(volume) - predict_days - 140):\n",
    "    mean.append(np.average(scaled_data[x:x+predict_days, 0], weights=weights) - scaled_data[x-1])\n",
    "    X_train.append(scaled_data[x - training_days:x, 0])\n",
    "\n",
    "X_train= np.array(X_train)\n",
    "X_buff = np.reshape(X_train, (X_train.shape[0], X_train.shape[1], 1))\n",
    "X_train = []\n",
    "\n",
    "for i, x in enumerate(range(training_days, len(volume) - predict_days - 140)):\n",
    "    X_train.append(np.insert(X_buff[i],1, sentiment[x - training_days:x], 1))\n",
    "    \n",
    "X_buff = np.array(X_train)\n",
    "X_train = []\n",
    "\n",
    "for i, x in enumerate(range(training_days, len(volume) - predict_days - 140)):\n",
    "    X_train.append(np.insert(X_buff[i],2, scaled_volume[x - training_days:x][0], 1))\n",
    "\n",
    "X_train = np.array(X_train)"
   ]
  },
  {
   "cell_type": "code",
   "execution_count": 54,
   "metadata": {},
   "outputs": [],
   "source": [
    "big_inc = 0\n",
    "small_inc = 0\n",
    "small_dec = 0\n",
    "big_dec = 0\n",
    "y_train = []\n",
    "\n",
    "for i, val in enumerate(mean):\n",
    "    if val > 0.01:\n",
    "        big_inc += 1\n",
    "        y_train.append(0)\n",
    "    elif val > 0:\n",
    "        small_inc += 1\n",
    "        y_train.append(1)\n",
    "    elif val < -0.01:\n",
    "        big_dec += 1\n",
    "        y_train.append(3)\n",
    "    else:\n",
    "        small_dec += 1\n",
    "        y_train.append(2)\n",
    "    \n",
    "y_train = np.array(y_train)\n",
    "y_train = y_train.reshape((y_train.shape[0], 1))\n",
    "y_train = tf.keras.utils.to_categorical(y_train, num_classes=4)"
   ]
  },
  {
   "cell_type": "code",
   "execution_count": 55,
   "metadata": {},
   "outputs": [],
   "source": [
    "test_start = dt.datetime(2020, 1,1)\n",
    "test_end = dt.datetime.strptime(sentiment_df[\"time\"].iloc[-2], \"%Y-%m-%d\")\n",
    "\n",
    "raw_test_data = web.DataReader(f\"{crypto_currency}-{against_currency}\", \"yahoo\", test_start, test_end)\n",
    "\n",
    "model_inputs = scaled_data[1461-training_days:]\n",
    "\n",
    "weights = [0.7,0.7,0.9,0.9,1.1,1.3,1.4]\n",
    "mean, change, X_test = [], [], []\n",
    "\n",
    "for x in range(training_days, len(model_inputs) - predict_days):\n",
    "    mean.append(np.average(model_inputs[x:x+predict_days, 0], weights=weights) - model_inputs[x-1])\n",
    "    X_test.append(model_inputs[x - training_days:x, 0])\n",
    "\n",
    "X_test= np.array(X_test)\n",
    "X_buff = np.reshape(X_test, (X_test.shape[0], X_test.shape[1], 1))\n",
    "X_test = []\n",
    "\n",
    "for i, x in enumerate(range(training_days, len(model_inputs) - predict_days)):\n",
    "    X_test.append(np.insert(X_buff[i],1, sentiment[x - training_days:x], 1))\n",
    "    \n",
    "X_buff = np.array(X_test)\n",
    "X_test = []\n",
    "\n",
    "for i, x in enumerate(range(training_days, len(model_inputs) - predict_days)):\n",
    "    X_test.append(np.insert(X_buff[i],2, scaled_volume[x - training_days:x][0], 1))\n",
    "\n",
    "X_test = np.array(X_test)"
   ]
  },
  {
   "cell_type": "code",
   "execution_count": 56,
   "metadata": {},
   "outputs": [],
   "source": [
    "big_inc = 0\n",
    "small_inc = 0\n",
    "small_dec = 0\n",
    "big_dec = 0\n",
    "y_test = []\n",
    "\n",
    "for i, val in enumerate(mean):\n",
    "    if val > 0.01:\n",
    "        big_inc += 1\n",
    "        y_test.append(0)\n",
    "    elif val > 0:\n",
    "        small_inc += 1\n",
    "        y_test.append(1)\n",
    "    elif val < -0.01:\n",
    "        big_dec += 1\n",
    "        y_test.append(3)\n",
    "    else:\n",
    "        small_dec += 1\n",
    "        y_test.append(2)\n",
    "    \n",
    "y_test = np.array(y_test)\n",
    "y_test = y_test.reshape((y_test.shape[0], 1))\n",
    "y_test = tf.keras.utils.to_categorical(y_test, num_classes=4)"
   ]
  },
  {
   "cell_type": "code",
   "execution_count": null,
   "metadata": {},
   "outputs": [],
   "source": [
    "dropout = 0.1\n",
    "rec_dropout = 0.2\n",
    "\n",
    "model = Sequential()\n",
    "model.add(LSTM(units=256, return_sequences=True, input_shape=(X_train.shape[1], X_train.shape[2]), recurrent_dropout=rec_dropout, dropout=dropout))\n",
    "model.add(LSTM(units=256, return_sequences=True, recurrent_dropout=rec_dropout, dropout=dropout))\n",
    "model.add(LSTM(units=256, recurrent_dropout=rec_dropout, dropout=dropout))\n",
    "model.add(Dense(units=4, activation=\"softmax\"))\n",
    "\n",
    "model.compile(optimizer=\"adam\", loss=\"categorical_crossentropy\", metrics=['acc'])\n",
    "\n",
    "\n",
    "history = model.fit(X_train, y_train, epochs=100, batch_size=256, callbacks=[EarlyStopping(monitor='loss',patience=10)])"
   ]
  },
  {
   "cell_type": "code",
   "execution_count": 64,
   "metadata": {},
   "outputs": [
    {
     "data": {
      "image/png": "[encoded data removed]",
      "text/plain": [
       "<Figure size 432x288 with 1 Axes>"
      ]
     },
     "metadata": {
      "needs_background": "light"
     },
     "output_type": "display_data"
    }
   ],
   "source": [
    "plt.plot(history.history[\"acc\"])\n",
    "plt.plot(history.history[\"loss\"])\n",
    "plt.title('Model accuracy and loss')\n",
    "plt.show()"
   ]
  },
  {
   "cell_type": "code",
   "execution_count": 63,
   "metadata": {},
   "outputs": [
    {
     "name": "stdout",
     "output_type": "stream",
     "text": [
      "14/14 [==============================] - 1s 45ms/step - loss: 1.0012 - acc: 0.5202\n",
      "test loss, test acc: [1.001193642616272, 0.5201636552810669]\n",
      "4/4 [==============================] - 0s 48ms/step - loss: 1.4046 - acc: 0.3556\n",
      "test loss, test acc: [1.4045770168304443, 0.35555556416511536]\n"
     ]
    }
   ],
   "source": [
    "results = model.evaluate(X_train, y_train, batch_size=128)\n",
    "print(\"test loss, test acc:\", results)\n",
    "\n",
    "results = model.evaluate(X_test, y_test, batch_size=128)\n",
    "print(\"test loss, test acc:\", results)"
   ]
  },
  {
   "cell_type": "code",
   "execution_count": null,
   "metadata": {},
   "outputs": [],
   "source": [
    "test_start = dt.datetime(2020, 1,1)\n",
    "test_end = dt.datetime.strptime(sentiment_df[\"time\"].iloc[-2], \"%Y-%m-%d\")\n",
    "\n",
    "raw_test_data = web.DataReader(f\"{crypto_currency}-{against_currency}\", \"yahoo\", test_start, test_end)\n",
    "\n",
    "model_inputs = scaled_data[1461-training_days:]\n",
    "\n",
    "weights = [0.7,0.7,0.9,0.9,1.1,1.3,1.4]\n",
    "mean, change, X_test = [], [], []\n",
    "\n",
    "for x in range(training_days, len(model_inputs) - predict_days):\n",
    "    mean.append(np.average(model_inputs[x:x+predict_days, 0], weights=weights) - model_inputs[x-1])\n",
    "    X_test.append(model_inputs[x - training_days:x, 0])\n",
    "\n",
    "X_test= np.array(X_test)\n",
    "X_buff = np.reshape(X_test, (X_test.shape[0], X_test.shape[1], 1))\n",
    "X_test = []\n",
    "\n",
    "for i, x in enumerate(range(training_days, len(model_inputs) - predict_days)):\n",
    "    X_test.append(np.insert(X_buff[i],1, sentiment[x - training_days:x], 1))\n",
    "    \n",
    "X_buff = np.array(X_test)\n",
    "X_test = []\n",
    "\n",
    "for i, x in enumerate(range(training_days, len(model_inputs) - predict_days)):\n",
    "    X_test.append(np.insert(X_buff[i],2, scaled_volume[x - training_days:x][0], 1))\n",
    "\n",
    "X_test = np.array(X_test)"
   ]
  },
  {
   "cell_type": "code",
   "execution_count": 7,
   "metadata": {},
   "outputs": [],
   "source": [
    "inc = 0\n",
    "dec = 0\n",
    "y_train = []\n",
    "\n",
    "for i, val in enumerate(mean):\n",
    "    if val >= 0:\n",
    "        inc += 1\n",
    "        y_train.append(0)\n",
    "    else:\n",
    "        dec += 1\n",
    "        y_train.append(1)\n",
    "    \n",
    "y_train = np.array(y_train)\n",
    "y_train = y_train.reshape((y_train.shape[0], 1))\n",
    "y_train = tf.keras.utils.to_categorical(y_train, num_classes=2)"
   ]
  },
  {
   "cell_type": "code",
   "execution_count": null,
   "metadata": {},
   "outputs": [],
   "source": [
    "dropout = 0.1\n",
    "rec_dropout = 0.4\n",
    "\n",
    "model = Sequential()\n",
    "model.add(LSTM(units=128, return_sequences=True, input_shape=(X_train.shape[1], X_train.shape[2]), recurrent_dropout=rec_dropout, dropout=dropout))\n",
    "model.add(LSTM(units=128, return_sequences=True, recurrent_dropout=rec_dropout, dropout=dropout))\n",
    "model.add(LSTM(units=128, recurrent_dropout=rec_dropout, dropout=dropout))\n",
    "model.add(Dense(units=2, activation=\"softmax\"))\n",
    "\n",
    "model.compile(optimizer=\"adam\", loss=\"categorical_crossentropy\", metrics=['acc'])\n",
    "\n",
    "\n",
    "history = model.fit(X_train, y_train, epochs=100, batch_size=256, callbacks=[EarlyStopping(monitor='loss',patience=10)])"
   ]
  },
  {
   "cell_type": "code",
   "execution_count": null,
   "metadata": {},
   "outputs": [],
   "source": [
    "plt.plot(history.history[\"acc\"])\n",
    "plt.plot(history.history[\"loss\"])\n",
    "plt.title('Model accuracy and loss')\n",
    "plt.show()"
   ]
  }
 ],
 "metadata": {
  "kernelspec": {
   "display_name": "Python 3.8.10 64-bit",
   "language": "python",
   "name": "python3"
  },
  "language_info": {
   "codemirror_mode": {
    "name": "ipython",
    "version": 3
   },
   "file_extension": ".py",
   "mimetype": "text/x-python",
   "name": "python",
   "nbconvert_exporter": "python",
   "pygments_lexer": "ipython3",
   "version": "3.8.10"
  },
  "orig_nbformat": 4,
  "vscode": {
   "interpreter": {
    "hash": "916dbcbb3f70747c44a77c7bcd40155683ae19c65e1c03b4aa3499c5328201f1"
   }
  }
 },
 "nbformat": 4,
 "nbformat_minor": 2
}
