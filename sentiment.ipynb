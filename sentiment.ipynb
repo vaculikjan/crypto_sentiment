{
 "cells": [
  {
   "cell_type": "code",
   "execution_count": 155,
   "metadata": {},
   "outputs": [],
   "source": [
    "import datetime as dt\n",
    "import matplotlib.pyplot as plt\n",
    "import numpy as np\n",
    "import pandas as pd\n",
    "import pandas_datareader as web\n",
    "import re\n",
    "import requests \n",
    "import tensorflow as tf\n",
    "import warnings\n",
    "\n",
    "from bs4 import BeautifulSoup\n",
    "from sklearn.preprocessing import MinMaxScaler\n",
    "from tensorflow.python.keras.layers import Dense, Dropout, LSTM\n",
    "from tensorflow.python.keras.models import Sequential\n",
    "from tensorflow.python.keras.callbacks import EarlyStopping\n",
    "\n",
    "warnings.filterwarnings(\"ignore\", category=np.VisibleDeprecationWarning) "
   ]
  },
  {
   "cell_type": "markdown",
   "metadata": {},
   "source": [
    "# About this notebook\n",
    "\n",
    "This project focuses on answering the question if and how it would be possible to predict the future price of crypto currencies (focus on BTC).\n",
    "\n",
    "3 LSTM models were created for this purpose:\n",
    "- 1 regression model\n",
    "- 2 classification models\n",
    "\n",
    "Each model and it's inputs and outputs will be described further in the notebook.\n",
    "\n",
    "*NOTE: To run this notebook correctly each cell should be executed in order and should not output any errors*"
   ]
  },
  {
   "cell_type": "markdown",
   "metadata": {},
   "source": [
    "## Setting up data for all models \n",
    "\n",
    "In the next 2 cells the code downloads and scales **closing price data**, which is used as both the input and output during the training. \n",
    "\n",
    "Furthermore it also loads a dataset with aggregated daily sentiment on BTC from twitter (available [here](https://www.kaggle.com/datasets/rogerho/ssentiment-analysis-on-5yrs-of-tweets-about-btc))."
   ]
  },
  {
   "cell_type": "code",
   "execution_count": 188,
   "metadata": {},
   "outputs": [],
   "source": [
    "crypto_currency = \"BTC\"\n",
    "against_currency = \"USD\"\n",
    "\n",
    "sentiment_df = pd.read_csv(\"sentiment_data_consolidated.csv\")\n",
    "sentiment = sentiment_df[\"sentiment\"]\n",
    "\n",
    "start = dt.datetime.strptime(sentiment_df[\"time\"].iloc[0], \"%Y-%m-%d\")\n",
    "end = dt.datetime.strptime(sentiment_df[\"time\"].iloc[-2], \"%Y-%m-%d\")\n",
    "\n",
    "raw_data = web.DataReader(f\"{crypto_currency}-{against_currency}\", \"yahoo\", start, end)"
   ]
  },
  {
   "cell_type": "code",
   "execution_count": 189,
   "metadata": {},
   "outputs": [],
   "source": [
    "scaler = MinMaxScaler(feature_range=(0,1))\n",
    "scaled_data = scaler.fit_transform(raw_data[\"Close\"].values.reshape(-1,1))"
   ]
  },
  {
   "cell_type": "markdown",
   "metadata": {},
   "source": [
    "## First model\n",
    "\n",
    "This is a regressive model which tries to predict the price directly. It takes as an input a moving window of 60 days worth of prices and sentiment and outputs a week worth of predictions on prices (values can be adjusted in variables \t`training_days` and `predict_days`). \n",
    "\n",
    "First data needs to be formatted correctly for training which is done in the next cell. "
   ]
  },
  {
   "cell_type": "code",
   "execution_count": 190,
   "metadata": {},
   "outputs": [],
   "source": [
    "training_days = 60\n",
    "predict_days = 7\n",
    "\n",
    "X_train, y_train = [], []\n",
    "\n",
    "for x in range(training_days, len(scaled_data) - predict_days - 140):\n",
    "    X_train.append(scaled_data[x - training_days:x, 0])\n",
    "    y_train.append(scaled_data[x:x+predict_days, 0])\n",
    "\n",
    "\n",
    "X_train, y_train = np.array(X_train), np.array(y_train)\n",
    "X_buff = np.reshape(X_train, (X_train.shape[0], X_train.shape[1], 1))\n",
    "X_train = []\n",
    "\n",
    "for i, x in enumerate(range(training_days, len(scaled_data) - predict_days - 140)):\n",
    "    X_train.append(np.insert(X_buff[i],1, sentiment[x - training_days:x], 1))\n",
    "\n",
    "X_train = np.array(X_train)"
   ]
  },
  {
   "cell_type": "code",
   "execution_count": null,
   "metadata": {},
   "outputs": [],
   "source": [
    "model = Sequential()\n",
    "\n",
    "model.add(LSTM(units=128, return_sequences=True, input_shape=(X_train.shape[1], X_train.shape[2]), dropout=0.2))\n",
    "model.add(LSTM(units=128, dropout = 0.2))\n",
    "model.add(Dense(units=7))\n",
    "\n",
    "model.compile(optimizer=\"adam\", loss=\"mean_squared_error\", metrics=['acc'])\n",
    "\n",
    "with tf.device('/cpu:0'):\n",
    "    model.fit(X_train, y_train, epochs=100, batch_size=64, callbacks=[EarlyStopping(monitor='loss',patience=10)])"
   ]
  },
  {
   "cell_type": "markdown",
   "metadata": {},
   "source": [
    "Create data for testing"
   ]
  },
  {
   "cell_type": "code",
   "execution_count": 194,
   "metadata": {},
   "outputs": [],
   "source": [
    "test_start = dt.datetime(2020, 1,1)\n",
    "test_end = dt.datetime.strptime(sentiment_df[\"time\"].iloc[-2], \"%Y-%m-%d\")\n",
    "\n",
    "raw_test_data = web.DataReader(f\"{crypto_currency}-{against_currency}\", \"yahoo\", test_start, test_end)\n",
    "\n",
    "model_inputs = scaled_data[1461-training_days:]\n",
    "\n",
    "X_test, y_test = [], []\n",
    "\n",
    "for x in range(training_days, len(model_inputs)):\n",
    "    X_test.append(model_inputs[x - training_days:x, 0])\n",
    "    y_test.append(model_inputs[x:x+predict_days, 0])\n",
    "\n",
    "X_test, y_test = np.array(X_test), np.array(y_test)\n",
    "X_test = np.reshape(X_test, (X_test.shape[0], X_test.shape[1],1))\n",
    "\n",
    "X_test = np.array(X_test)\n",
    "X_buff = np.reshape(X_test, (X_test.shape[0], X_test.shape[1], 1))\n",
    "X_test = []\n",
    "\n",
    "for i, x in enumerate(range(training_days, len(model_inputs))):\n",
    "    X_test.append(np.insert(X_buff[i],1, sentiment[x - training_days:x], 1))\n",
    "    \n",
    "X_test = np.array(X_test)"
   ]
  },
  {
   "cell_type": "markdown",
   "metadata": {},
   "source": [
    "The model performs seemingly ok, however after closer inspection of the graph it is apparent that this approach is very naïve as it always slacks around 7 days behind on its predictions, meaning that it basically doesn't do anything valuable and thus this approach was scrapped."
   ]
  },
  {
   "cell_type": "code",
   "execution_count": 195,
   "metadata": {},
   "outputs": [
    {
     "data": {
      "image/png": "[encoded data removed]",
      "text/plain": [
       "<Figure size 432x288 with 1 Axes>"
      ]
     },
     "metadata": {
      "needs_background": "light"
     },
     "output_type": "display_data"
    }
   ],
   "source": [
    "y_pred = []\n",
    "for week in range(0, X_test.shape[0], 7):\n",
    "    y_pred.append(model.predict(np.expand_dims(X_test[week], 0)))\n",
    "\n",
    "y_pred = np.array(y_pred)\n",
    "y_pred = np.expand_dims(y_pred.flatten(), 0)\n",
    "actual_prices = raw_test_data[\"Close\"].values\n",
    "prediction_prices = scaler.inverse_transform(y_pred)[0]\n",
    "\n",
    "plt.plot(actual_prices, color=\"black\", label=\"Actual\")\n",
    "plt.plot(prediction_prices, color=\"green\", label=\"Prediction\")\n",
    "\n",
    "plt.title(f\"{crypto_currency} price prediction\")\n",
    "plt.xlabel(\"Days\")\n",
    "plt.ylabel(\"Price\")\n",
    "plt.legend(loc=\"upper left\")\n",
    "plt.show()"
   ]
  },
  {
   "cell_type": "markdown",
   "metadata": {},
   "source": [
    "## Setting up data for second and third model\n",
    "\n",
    "Here we scrape web for data on the volume of tweets and create another feature for training."
   ]
  },
  {
   "cell_type": "code",
   "execution_count": 197,
   "metadata": {},
   "outputs": [],
   "source": [
    "url = 'https://bitinfocharts.com/comparison/tweets-btc-dcr.html#alltime'\n",
    "response = requests.get(url)\n",
    "soup = BeautifulSoup(response.text, 'html.parser')\n",
    "\n",
    "scripts = soup.find_all('script')\n",
    "\n",
    "for script in scripts:\n",
    "    if 'd = new Dygraph(document.getElementById(\"container\")' in script.text:\n",
    "        StrList = script.text\n",
    "        StrList = StrList.split('[[')[-1]\n",
    "        StrList = StrList.split(']]')[0]\n",
    "        StrList = StrList.replace(\"new Date(\", '').replace(')','')\n",
    "        clean = re.sub(\"[\\[\\]\\s]\",\"\",StrList)\n",
    "        splitted = re.split(\"[\\'\\\"',]\",clean)\n",
    "        splitted = [l for l in splitted if len(l)!=0]\n",
    "        del splitted[3-1::3]\n",
    "        dataList = [s.replace(\"null\", \"\") for s in splitted if s != '']\n",
    "        dataList[1::2] = [int(v) if v != '' else 0 for v in dataList[1::2]]"
   ]
  },
  {
   "cell_type": "code",
   "execution_count": 198,
   "metadata": {},
   "outputs": [],
   "source": [
    "date = []\n",
    "tweet = []\n",
    "\n",
    "for each in dataList:\n",
    "    if (dataList.index(each) % 2) == 0:\n",
    "        date.append(each)\n",
    "    else:\n",
    "        tweet.append(each)\n",
    "\n",
    "df = pd.DataFrame(list(zip(date, tweet)), columns=[\"Date\",\"Volume\"])\n"
   ]
  },
  {
   "cell_type": "markdown",
   "metadata": {},
   "source": [
    "Inputing missing data"
   ]
  },
  {
   "cell_type": "code",
   "execution_count": 199,
   "metadata": {},
   "outputs": [],
   "source": [
    "volume = df[632:2550][\"Volume\"].values.astype(int)\n",
    "to_impute = np.where(volume == 0)\n",
    "\n",
    "avg_1 = (volume[539] + volume[558]) / 2\n",
    "avg_2 = (volume[791] + volume[827]) / 2\n",
    "avg_3 = (volume[1069] + volume[1071]) / 2\n",
    "avg_4 = (volume[1659] + volume[1661]) / 2\n",
    "\n",
    "for val in to_impute[0]:\n",
    "    if val < 558:\n",
    "        volume[val] = avg_1\n",
    "    elif val < 827:\n",
    "        volume[val] = avg_2\n",
    "    elif val < 1071:\n",
    "        volume[val] = avg_3\n",
    "    else:\n",
    "        volume[val] = avg_4\n",
    "        \n",
    "scaled_volume = scaler.fit_transform(volume.reshape(-1,1))"
   ]
  },
  {
   "cell_type": "markdown",
   "metadata": {},
   "source": [
    "# Second model\n",
    "\n",
    "The second model outputs 4 variables:\n",
    "- small increase in price\n",
    "- big increase in price\n",
    "- small decrease in price\n",
    "- big increase in price\n",
    "\n",
    "The model tries to classify from 60 training days, what the price change will be for the upcoming week. The price change is calculated as a weighted average of all seven days and classified into one of the buckets as seen in the next cell.\n",
    "\n",
    "The 2 upcoming cells create training and testing data for this model."
   ]
  },
  {
   "cell_type": "code",
   "execution_count": 200,
   "metadata": {},
   "outputs": [],
   "source": [
    "weights = [0.7,0.7,0.9,0.9,1.1,1.3,1.4]\n",
    "mean, change, X_train = [], [], []\n",
    "\n",
    "for x in range(training_days, len(volume) - predict_days - 140):\n",
    "    mean.append(np.average(scaled_data[x:x+predict_days, 0], weights=weights) - scaled_data[x-1])\n",
    "    X_train.append(scaled_data[x - training_days:x, 0])\n",
    "\n",
    "X_train= np.array(X_train)\n",
    "X_buff = np.reshape(X_train, (X_train.shape[0], X_train.shape[1], 1))\n",
    "X_train = []\n",
    "\n",
    "for i, x in enumerate(range(training_days, len(volume) - predict_days - 140)):\n",
    "    X_train.append(np.insert(X_buff[i],1, sentiment[x - training_days:x], 1))\n",
    "    \n",
    "X_buff = np.array(X_train)\n",
    "X_train = []\n",
    "\n",
    "for i, x in enumerate(range(training_days, len(volume) - predict_days - 140)):\n",
    "    X_train.append(np.insert(X_buff[i],2, scaled_volume[x - training_days:x][0], 1))\n",
    "\n",
    "X_train = np.array(X_train)\n",
    "\n",
    "big_inc = 0\n",
    "small_inc = 0\n",
    "small_dec = 0\n",
    "big_dec = 0\n",
    "\n",
    "y_train = []\n",
    "\n",
    "for i, val in enumerate(mean):\n",
    "    if val > 0.01:\n",
    "        big_inc += 1\n",
    "        y_train.append(0)\n",
    "    elif val > 0:\n",
    "        small_inc += 1\n",
    "        y_train.append(1)\n",
    "    elif val < -0.01:\n",
    "        big_dec += 1\n",
    "        y_train.append(3)\n",
    "    else:\n",
    "        small_dec += 1\n",
    "        y_train.append(2)\n",
    "    \n",
    "y_train = np.array(y_train)\n",
    "y_train = y_train.reshape((y_train.shape[0], 1))\n",
    "y_train = tf.keras.utils.to_categorical(y_train, num_classes=4)"
   ]
  },
  {
   "cell_type": "code",
   "execution_count": 201,
   "metadata": {},
   "outputs": [],
   "source": [
    "test_start = dt.datetime(2020, 1,1)\n",
    "test_end = dt.datetime.strptime(sentiment_df[\"time\"].iloc[-2], \"%Y-%m-%d\")\n",
    "\n",
    "raw_test_data = web.DataReader(f\"{crypto_currency}-{against_currency}\", \"yahoo\", test_start, test_end)\n",
    "\n",
    "model_inputs = scaled_data[1461-training_days:]\n",
    "\n",
    "weights = [0.7,0.7,0.9,0.9,1.1,1.3,1.4]\n",
    "mean, change, X_test = [], [], []\n",
    "\n",
    "for x in range(training_days, len(model_inputs) - predict_days):\n",
    "    mean.append(np.average(model_inputs[x:x+predict_days, 0], weights=weights) - model_inputs[x-1])\n",
    "    X_test.append(model_inputs[x - training_days:x, 0])\n",
    "\n",
    "X_test= np.array(X_test)\n",
    "X_buff = np.reshape(X_test, (X_test.shape[0], X_test.shape[1], 1))\n",
    "X_test = []\n",
    "\n",
    "for i, x in enumerate(range(training_days, len(model_inputs) - predict_days)):\n",
    "    X_test.append(np.insert(X_buff[i],1, sentiment[x - training_days:x], 1))\n",
    "    \n",
    "X_buff = np.array(X_test)\n",
    "X_test = []\n",
    "\n",
    "for i, x in enumerate(range(training_days, len(model_inputs) - predict_days)):\n",
    "    X_test.append(np.insert(X_buff[i],2, scaled_volume[x - training_days:x][0], 1))\n",
    "\n",
    "X_test = np.array(X_test)\n",
    "\n",
    "big_inc = 0\n",
    "small_inc = 0\n",
    "small_dec = 0\n",
    "big_dec = 0\n",
    "\n",
    "y_test = []\n",
    "\n",
    "for i, val in enumerate(mean):\n",
    "    if val > 0.01:\n",
    "        big_inc += 1\n",
    "        y_test.append(0)\n",
    "    elif val > 0:\n",
    "        small_inc += 1\n",
    "        y_test.append(1)\n",
    "    elif val < -0.01:\n",
    "        big_dec += 1\n",
    "        y_test.append(3)\n",
    "    else:\n",
    "        small_dec += 1\n",
    "        y_test.append(2)\n",
    "    \n",
    "y_test = np.array(y_test)\n",
    "y_test = y_test.reshape((y_test.shape[0], 1))\n",
    "y_test = tf.keras.utils.to_categorical(y_test, num_classes=4)"
   ]
  },
  {
   "cell_type": "markdown",
   "metadata": {},
   "source": [
    "## About second model and motivation for the third\n",
    "\n",
    "For the classification models anything slightly above 50% accuracy on testing set would be considered a success as hypothetically that would (over a long period of time) mean steady profits.\n",
    "\n",
    "Because the second model performed relatively poorly in both training and testing a third one was designed."
   ]
  },
  {
   "cell_type": "code",
   "execution_count": null,
   "metadata": {},
   "outputs": [],
   "source": [
    "dropout = 0.1\n",
    "rec_dropout = 0.4\n",
    "\n",
    "model = Sequential()\n",
    "model.add(LSTM(units=128, return_sequences=True, input_shape=(X_train.shape[1], X_train.shape[2]), recurrent_dropout=rec_dropout, dropout=dropout))\n",
    "model.add(LSTM(units=128, return_sequences=True, recurrent_dropout=rec_dropout, dropout=dropout))\n",
    "model.add(LSTM(units=128, recurrent_dropout=rec_dropout, dropout=dropout))\n",
    "model.add(Dense(units=4, activation=\"softmax\"))\n",
    "\n",
    "model.compile(optimizer=\"adam\", loss=\"categorical_crossentropy\", metrics=['acc'])\n",
    "\n",
    "\n",
    "history = model.fit(X_train, y_train, epochs=100, batch_size=256, callbacks=[EarlyStopping(monitor='loss',patience=10)])"
   ]
  },
  {
   "cell_type": "code",
   "execution_count": 209,
   "metadata": {},
   "outputs": [
    {
     "data": {
      "image/png": "[encoded data removed]",
      "text/plain": [
       "<Figure size 432x288 with 1 Axes>"
      ]
     },
     "metadata": {
      "needs_background": "light"
     },
     "output_type": "display_data"
    }
   ],
   "source": [
    "plt.plot(history.history[\"acc\"])\n",
    "plt.plot(history.history[\"loss\"])\n",
    "plt.title('Model accuracy and loss')\n",
    "plt.show()"
   ]
  },
  {
   "cell_type": "code",
   "execution_count": 210,
   "metadata": {},
   "outputs": [
    {
     "name": "stdout",
     "output_type": "stream",
     "text": [
      "7/7 [==============================] - 1s 41ms/step - loss: 0.9806 - acc: 0.5172\n",
      "train loss, train acc: [0.9806298613548279, 0.517241358757019]\n",
      "2/2 [==============================] - 0s 42ms/step - loss: 1.2360 - acc: 0.4511\n",
      "test loss, test acc: [1.2360148429870605, 0.4511111080646515]\n"
     ]
    }
   ],
   "source": [
    "results = model.evaluate(X_train, y_train, batch_size=256)\n",
    "print(\"train loss, train acc:\", results)\n",
    "\n",
    "results = model.evaluate(X_test, y_test, batch_size=256)\n",
    "print(\"test loss, test acc:\", results)"
   ]
  },
  {
   "cell_type": "markdown",
   "metadata": {},
   "source": [
    "# Third model\n",
    "\n",
    "Having only 2 classes (increase or decrease in price) would hopefully result in easier classification and better performance however also bring some problems (false positives/negatives, possibility for the model to only learn to select one of the outputs, etc.)."
   ]
  },
  {
   "cell_type": "code",
   "execution_count": 211,
   "metadata": {},
   "outputs": [],
   "source": [
    "weights = [0.7,0.7,0.9,0.9,1.1,1.3,1.4]\n",
    "mean, change, X_train = [], [], []\n",
    "\n",
    "for x in range(training_days, len(volume) - predict_days - 140):\n",
    "    mean.append(np.average(scaled_data[x:x+predict_days, 0], weights=weights) - scaled_data[x-1])\n",
    "    X_train.append(scaled_data[x - training_days:x, 0])\n",
    "\n",
    "X_train= np.array(X_train)\n",
    "X_buff = np.reshape(X_train, (X_train.shape[0], X_train.shape[1], 1))\n",
    "X_train = []\n",
    "\n",
    "for i, x in enumerate(range(training_days, len(volume) - predict_days - 140)):\n",
    "    X_train.append(np.insert(X_buff[i],1, sentiment[x - training_days:x], 1))\n",
    "    \n",
    "X_buff = np.array(X_train)\n",
    "X_train = []\n",
    "\n",
    "for i, x in enumerate(range(training_days, len(volume) - predict_days - 140)):\n",
    "    X_train.append(np.insert(X_buff[i],2, scaled_volume[x - training_days:x][0], 1))\n",
    "\n",
    "X_train = np.array(X_train)\n",
    "\n",
    "inc = 0\n",
    "dec = 0\n",
    "y_train = []\n",
    "\n",
    "for i, val in enumerate(mean):\n",
    "    if val >= 0:\n",
    "        inc += 1\n",
    "        y_train.append(0)\n",
    "    else:\n",
    "        dec += 1\n",
    "        y_train.append(1)\n",
    "    \n",
    "y_train = np.array(y_train)\n",
    "y_train = y_train.reshape((y_train.shape[0], 1))\n",
    "y_train = tf.keras.utils.to_categorical(y_train, num_classes=2)"
   ]
  },
  {
   "cell_type": "code",
   "execution_count": 212,
   "metadata": {},
   "outputs": [],
   "source": [
    "test_start = dt.datetime(2020, 1,1)\n",
    "test_end = dt.datetime.strptime(sentiment_df[\"time\"].iloc[-2], \"%Y-%m-%d\")\n",
    "\n",
    "raw_test_data = web.DataReader(f\"{crypto_currency}-{against_currency}\", \"yahoo\", test_start, test_end)\n",
    "\n",
    "model_inputs = scaled_data[1461-training_days:]\n",
    "\n",
    "weights = [0.7,0.7,0.9,0.9,1.1,1.3,1.4]\n",
    "mean, change, X_test = [], [], []\n",
    "\n",
    "for x in range(training_days, len(model_inputs) - predict_days):\n",
    "    mean.append(np.average(model_inputs[x:x+predict_days, 0], weights=weights) - model_inputs[x-1])\n",
    "    X_test.append(model_inputs[x - training_days:x, 0])\n",
    "\n",
    "X_test= np.array(X_test)\n",
    "X_buff = np.reshape(X_test, (X_test.shape[0], X_test.shape[1], 1))\n",
    "X_test = []\n",
    "\n",
    "for i, x in enumerate(range(training_days, len(model_inputs) - predict_days)):\n",
    "    X_test.append(np.insert(X_buff[i],1, sentiment[x - training_days:x], 1))\n",
    "    \n",
    "X_buff = np.array(X_test)\n",
    "X_test = []\n",
    "\n",
    "for i, x in enumerate(range(training_days, len(model_inputs) - predict_days)):\n",
    "    X_test.append(np.insert(X_buff[i],2, scaled_volume[x - training_days:x][0], 1))\n",
    "\n",
    "X_test = np.array(X_test)\n",
    "\n",
    "inc = 0\n",
    "dec = 0\n",
    "y_test = []\n",
    "\n",
    "for i, val in enumerate(mean):\n",
    "    if val >= 0:\n",
    "        inc += 1\n",
    "        y_test.append(0)\n",
    "    else:\n",
    "        dec += 1\n",
    "        y_test.append(1)\n",
    "    \n",
    "y_test = np.array(y_test)\n",
    "y_test = y_test.reshape((y_test.shape[0], 1))\n",
    "y_test = tf.keras.utils.to_categorical(y_test, num_classes=2)"
   ]
  },
  {
   "cell_type": "markdown",
   "metadata": {},
   "source": [
    "The model performed the best from the three, however still only managed to get around 50/50 probability of predicting the price."
   ]
  },
  {
   "cell_type": "code",
   "execution_count": null,
   "metadata": {},
   "outputs": [],
   "source": [
    "dropout = 0.3\n",
    "rec_dropout = 0.6\n",
    "\n",
    "model = Sequential()\n",
    "model.add(LSTM(units=64, return_sequences=True, input_shape=(X_train.shape[1], X_train.shape[2]), recurrent_dropout=rec_dropout, dropout=dropout))\n",
    "model.add(LSTM(units=64, return_sequences=False, recurrent_dropout=rec_dropout, dropout=dropout))\n",
    "model.add(Dense(units=2, activation=\"softmax\"))\n",
    "\n",
    "model.compile(optimizer=\"adam\", loss=\"categorical_crossentropy\", metrics=['acc'])\n",
    "\n",
    "\n",
    "history = model.fit(X_train, y_train, epochs=100, batch_size=256, callbacks=[\n",
    "    EarlyStopping(monitor='loss', patience=10),\n",
    "    tf.keras.callbacks.TensorBoard(log_dir=\"./logs\")\n",
    "])"
   ]
  },
  {
   "cell_type": "code",
   "execution_count": 238,
   "metadata": {},
   "outputs": [
    {
     "data": {
      "image/png": "[encoded data removed]",
      "text/plain": [
       "<Figure size 432x288 with 1 Axes>"
      ]
     },
     "metadata": {
      "needs_background": "light"
     },
     "output_type": "display_data"
    }
   ],
   "source": [
    "plt.plot(history.history[\"acc\"])\n",
    "plt.plot(history.history[\"loss\"])\n",
    "plt.title('Model accuracy and loss')\n",
    "plt.show()"
   ]
  },
  {
   "cell_type": "code",
   "execution_count": 237,
   "metadata": {},
   "outputs": [
    {
     "name": "stdout",
     "output_type": "stream",
     "text": [
      "7/7 [==============================] - 0s 25ms/step - loss: 0.6669 - acc: 0.6061\n",
      "train loss, train acc: [0.6669414639472961, 0.6060783267021179]\n",
      "2/2 [==============================] - 0s 24ms/step - loss: 0.9332 - acc: 0.4933\n",
      "test loss, test acc: [0.9331575632095337, 0.4933333396911621]\n"
     ]
    }
   ],
   "source": [
    "results = model.evaluate(X_train, y_train, batch_size=256)\n",
    "print(\"train loss, train acc:\", results)\n",
    "\n",
    "results = model.evaluate(X_test, y_test, batch_size=256)\n",
    "print(\"test loss, test acc:\", results)"
   ]
  },
  {
   "cell_type": "markdown",
   "metadata": {},
   "source": [
    "# Summary and closing remarks\n",
    "\n",
    "Out of the 3 models, the one that simply classified the change of price performed the best.\n",
    "\n",
    "While neither model was able to achieve a satisfactory performance, the third one was in a relatively unoptimised state able to perform at least somwhat decently, which I find to be a success in confirming that there is possibly potential in this direction.\n",
    "\n",
    "Another thing I want to briefly touch upon is the training features. Cryptocurrencies are inherently talked about on social media and thus I thought that sentiment would be a possible indicator of the price. The dataset I chose for training was however in my opinion not very well made and this would be one of the first things to optimise if I would want to iterate on this idea in the future. \n",
    "\n",
    "Where I think lies the biggest potential however is simply the tweet volume, because the 2 seem to be linked in at least some fashion. While that itself may not be enough to predict the price, it could be a strong indicator."
   ]
  }
 ],
 "metadata": {
  "kernelspec": {
   "display_name": "Python 3.8.10 64-bit",
   "language": "python",
   "name": "python3"
  },
  "language_info": {
   "codemirror_mode": {
    "name": "ipython",
    "version": 3
   },
   "file_extension": ".py",
   "mimetype": "text/x-python",
   "name": "python",
   "nbconvert_exporter": "python",
   "pygments_lexer": "ipython3",
   "version": "3.8.10"
  },
  "orig_nbformat": 4,
  "vscode": {
   "interpreter": {
    "hash": "916dbcbb3f70747c44a77c7bcd40155683ae19c65e1c03b4aa3499c5328201f1"
   }
  }
 },
 "nbformat": 4,
 "nbformat_minor": 2
}
