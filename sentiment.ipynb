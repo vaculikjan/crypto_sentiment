{
 "cells": [
  {
   "cell_type": "code",
   "execution_count": 234,
   "metadata": {},
   "outputs": [],
   "source": [
    "%%capture\n",
    "\n",
    "import datetime as dt\n",
    "import matplotlib.pyplot as plt\n",
    "import numpy as np\n",
    "import pandas as pd\n",
    "import pandas_datareader as web\n",
    "import tensorflow as tf\n",
    "\n",
    "from sklearn.preprocessing import MinMaxScaler\n",
    "from tensorflow.python.keras.layers import Dense, Dropout, LSTM\n",
    "from tensorflow.python.keras.models import Sequential\n"
   ]
  },
  {
   "cell_type": "code",
   "execution_count": 236,
   "metadata": {},
   "outputs": [
    {
     "name": "stdout",
     "output_type": "stream",
     "text": [
      "Num GPUs Available:  1\n"
     ]
    }
   ],
   "source": [
    "print(\"Num GPUs Available: \", len(tf.config.list_physical_devices('GPU')))"
   ]
  },
  {
   "cell_type": "code",
   "execution_count": 238,
   "metadata": {},
   "outputs": [],
   "source": [
    "crypto_currency = \"BTC\"\n",
    "against_currency = \"USD\"\n",
    "\n",
    "sentiment_df = pd.read_csv(\"sentiment_data_consolidated.csv\")\n",
    "sentiment = sentiment_df[\"sentiment\"]\n",
    "\n",
    "start = dt.datetime.strptime(sentiment_df[\"time\"].iloc[0], \"%Y-%m-%d\")\n",
    "end = dt.datetime.strptime(sentiment_df[\"time\"].iloc[-2], \"%Y-%m-%d\")\n",
    "\n",
    "raw_data = web.DataReader(f\"{crypto_currency}-{against_currency}\", \"yahoo\", start, end)"
   ]
  },
  {
   "cell_type": "code",
   "execution_count": 237,
   "metadata": {},
   "outputs": [],
   "source": [
    "scaler = MinMaxScaler(feature_range=(0,1))\n",
    "scaled_data = scaler.fit_transform(raw_data[\"Close\"].values.reshape(-1,1))"
   ]
  },
  {
   "cell_type": "code",
   "execution_count": 205,
   "metadata": {},
   "outputs": [
    {
     "data": {
      "text/plain": [
       "(1858, 60, 2)"
      ]
     },
     "execution_count": 205,
     "metadata": {},
     "output_type": "execute_result"
    }
   ],
   "source": [
    "prediction_days = 60\n",
    "X_train, y_train = [], []\n",
    "\n",
    "for x in range(prediction_days, len(scaled_data)):\n",
    "    X_train.append(scaled_data[x - prediction_days:x, 0])\n",
    "    y_train.append(scaled_data[x, 0])\n",
    "\n",
    "\n",
    "X_train, y_train = np.array(X_train), np.array(y_train)\n",
    "X_buff = np.reshape(X_train, (X_train.shape[0], X_train.shape[1], 1))\n",
    "X_train = []\n",
    "\n",
    "for i, x in enumerate(range(prediction_days, len(scaled_data))):\n",
    "    X_train.append(np.insert(X_buff[i],1, sentiment[x - prediction_days:x], 1))\n",
    "\n",
    "X_train = np.array(X_train)"
   ]
  },
  {
   "cell_type": "code",
   "execution_count": 206,
   "metadata": {},
   "outputs": [
    {
     "name": "stdout",
     "output_type": "stream",
     "text": [
      "Epoch 1/25\n",
      "59/59 [==============================] - 8s 67ms/step - loss: 0.0047\n",
      "Epoch 2/25\n",
      "59/59 [==============================] - 4s 67ms/step - loss: 0.0013\n",
      "Epoch 3/25\n",
      "59/59 [==============================] - 4s 67ms/step - loss: 0.0015\n",
      "Epoch 4/25\n",
      "59/59 [==============================] - 4s 67ms/step - loss: 0.0010\n",
      "Epoch 5/25\n",
      "59/59 [==============================] - 4s 67ms/step - loss: 0.0011\n",
      "Epoch 6/25\n",
      "59/59 [==============================] - 4s 68ms/step - loss: 0.0014\n",
      "Epoch 7/25\n",
      "59/59 [==============================] - 4s 67ms/step - loss: 0.0010\n",
      "Epoch 8/25\n",
      "59/59 [==============================] - 4s 67ms/step - loss: 0.0011\n",
      "Epoch 9/25\n",
      "59/59 [==============================] - 4s 69ms/step - loss: 9.3214e-04\n",
      "Epoch 10/25\n",
      "59/59 [==============================] - 4s 69ms/step - loss: 0.0012\n",
      "Epoch 11/25\n",
      "59/59 [==============================] - 4s 69ms/step - loss: 8.4689e-04\n",
      "Epoch 12/25\n",
      "59/59 [==============================] - 4s 70ms/step - loss: 8.7566e-04\n",
      "Epoch 13/25\n",
      "59/59 [==============================] - 4s 68ms/step - loss: 7.4278e-04\n",
      "Epoch 14/25\n",
      "59/59 [==============================] - 4s 67ms/step - loss: 7.8179e-04\n",
      "Epoch 15/25\n",
      "59/59 [==============================] - 4s 67ms/step - loss: 5.9358e-04\n",
      "Epoch 16/25\n",
      "59/59 [==============================] - 4s 67ms/step - loss: 6.6806e-04\n",
      "Epoch 17/25\n",
      "59/59 [==============================] - 4s 67ms/step - loss: 7.1299e-04\n",
      "Epoch 18/25\n",
      "59/59 [==============================] - 4s 67ms/step - loss: 7.4511e-04\n",
      "Epoch 19/25\n",
      "59/59 [==============================] - 4s 68ms/step - loss: 7.3477e-04\n",
      "Epoch 20/25\n",
      "59/59 [==============================] - 4s 67ms/step - loss: 6.0988e-04\n",
      "Epoch 21/25\n",
      "59/59 [==============================] - 4s 68ms/step - loss: 7.8648e-04\n",
      "Epoch 22/25\n",
      "59/59 [==============================] - 4s 67ms/step - loss: 8.2323e-04\n",
      "Epoch 23/25\n",
      "59/59 [==============================] - 4s 67ms/step - loss: 0.0010\n",
      "Epoch 24/25\n",
      "59/59 [==============================] - 4s 67ms/step - loss: 5.8199e-04\n",
      "Epoch 25/25\n",
      "59/59 [==============================] - 4s 68ms/step - loss: 8.3961e-04\n"
     ]
    }
   ],
   "source": [
    "model = Sequential()\n",
    "\n",
    "model.add(LSTM(units=50, return_sequences=True, input_shape=(X_train.shape[1], 2)))\n",
    "model.add(Dropout(0.2))\n",
    "model.add(LSTM(units=50, return_sequences=True))\n",
    "model.add(Dropout(0.2))\n",
    "model.add(LSTM(units=50))\n",
    "model.add(Dropout(0.2))\n",
    "model.add(Dense(units=1))\n",
    "\n",
    "model.compile(optimizer=\"adam\", loss=\"mean_squared_error\")\n",
    "\n",
    "with tf.device('/cpu:0'):\n",
    "    model.fit(X_train, y_train, epochs=25, batch_size=32)"
   ]
  },
  {
   "cell_type": "code",
   "execution_count": 240,
   "metadata": {},
   "outputs": [],
   "source": [
    "test_start = dt.datetime(2020, 1,1)\n",
    "test_end = end\n",
    "\n",
    "raw_test_data = web.DataReader(f\"{crypto_currency}-{against_currency}\", \"yahoo\", test_start, test_end)\n",
    "total_dataset = pd.concat((raw_data[\"Close\"], raw_test_data[\"Close\"]), axis=0)\n",
    "\n",
    "model_inputs = total_dataset[len(total_dataset) - len(raw_test_data) - prediction_days:].values\n",
    "model_inputs = model_inputs.reshape(-1,1)\n",
    "model_inputs = scaler.fit_transform(model_inputs)\n",
    "\n",
    "X_test = []\n",
    "\n",
    "for x in range(prediction_days, len(model_inputs)):\n",
    "    X_test.append(model_inputs[x - prediction_days:x, 0])\n",
    "\n",
    "X_test = np.array(X_test)\n",
    "X_test = np.reshape(X_test, (X_test.shape[0], X_test.shape[1],1))\n",
    "\n",
    "X_test = np.array(X_test)\n",
    "X_buff = np.reshape(X_test, (X_test.shape[0], X_test.shape[1], 1))\n",
    "X_test = []\n",
    "\n",
    "for i, x in enumerate(range(prediction_days, len(model_inputs))):\n",
    "    X_test.append(np.insert(X_buff[i],1, sentiment[x - prediction_days:x], 1))\n",
    "    \n",
    "X_test = np.array(X_test)"
   ]
  },
  {
   "cell_type": "code",
   "execution_count": 256,
   "metadata": {},
   "outputs": [
    {
     "data": {
      "image/png": "[encoded data removed]",
      "text/plain": [
       "<Figure size 432x288 with 1 Axes>"
      ]
     },
     "metadata": {
      "needs_background": "light"
     },
     "output_type": "display_data"
    }
   ],
   "source": [
    "y_pred = model.predict(X_test)\n",
    "\n",
    "actual_prices = raw_test_data[\"Close\"].values\n",
    "prediction_prices = scaler.inverse_transform(y_pred)\n",
    "\n",
    "plt.plot(actual_prices, color=\"black\", label=\"Actual\")\n",
    "plt.plot(prediction_prices, color=\"green\", label=\"Prediction\")\n",
    "\n",
    "plt.title(f\"{crypto_currency} price prediction\")\n",
    "plt.xlabel(\"Days\")\n",
    "plt.ylabel(\"Price\")\n",
    "plt.legend(loc=\"upper left\")\n",
    "plt.show()"
   ]
  }
 ],
 "metadata": {
  "kernelspec": {
   "display_name": "Python 3.8.10 64-bit",
   "language": "python",
   "name": "python3"
  },
  "language_info": {
   "codemirror_mode": {
    "name": "ipython",
    "version": 3
   },
   "file_extension": ".py",
   "mimetype": "text/x-python",
   "name": "python",
   "nbconvert_exporter": "python",
   "pygments_lexer": "ipython3",
   "version": "3.8.10"
  },
  "orig_nbformat": 4,
  "vscode": {
   "interpreter": {
    "hash": "916dbcbb3f70747c44a77c7bcd40155683ae19c65e1c03b4aa3499c5328201f1"
   }
  }
 },
 "nbformat": 4,
 "nbformat_minor": 2
}
